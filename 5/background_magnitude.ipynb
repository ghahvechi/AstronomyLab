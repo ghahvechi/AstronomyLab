{
 "cells": [
  {
   "cell_type": "code",
   "execution_count": 76,
   "id": "bff9927a",
   "metadata": {},
   "outputs": [],
   "source": [
    "import logging\n",
    "import numpy as np\n",
    "import matplotlib.pyplot as plt\n",
    "from astropy.io import fits"
   ]
  },
  {
   "cell_type": "code",
   "execution_count": 77,
   "id": "6420765d",
   "metadata": {},
   "outputs": [],
   "source": [
    "# Reading the FITS file\n",
    "image = fits.open(\"D:\\\\Files\\\\Background Magnitude Group2\\\\stars.fits\")[0].data"
   ]
  },
  {
   "cell_type": "code",
   "execution_count": 78,
   "id": "bf654bfd",
   "metadata": {},
   "outputs": [],
   "source": [
    "# Calculating flux of rectangles\n",
    "UL_point1i = 673\n",
    "UL_point1j = 823\n",
    "DR_point1i = 847\n",
    "DR_point1j = 1222\n",
    "UL_point2i = 1798\n",
    "UL_point2j = 1207\n",
    "DR_point2i = 1952\n",
    "DR_point2j = 1445\n",
    "\n",
    "R_flux = 0\n",
    "pixel_counter = 0\n",
    "\n",
    "# Calculate flux for the first rectangle\n",
    "for i in range(UL_point1i, DR_point1i + 1):\n",
    "    for j in range(UL_point1j, DR_point1j + 1):\n",
    "        R_flux += image[i][j]\n",
    "        pixel_counter += 1\n",
    "\n",
    "# Calculate flux for the second rectangle\n",
    "for i in range(UL_point2i, DR_point2i + 1):\n",
    "    for j in range(UL_point2j, DR_point2j + 1):\n",
    "        R_flux += image[i][j]\n",
    "        pixel_counter += 1\n"
   ]
  },
  {
   "cell_type": "code",
   "execution_count": 79,
   "id": "186c0d6c",
   "metadata": {},
   "outputs": [],
   "source": [
    "# Finding the center of the star\n",
    "def get_croped_image(image, center_of_mass):\n",
    "    i_center_of_mass = center_of_mass[0]\n",
    "    j_center_of_mass = center_of_mass[1]\n",
    "    croped_image = np.zeros((31, 31), dtype=int)\n",
    "    i_counter = 0\n",
    "    for i in range(i_center_of_mass - 15, i_center_of_mass + 16):\n",
    "        j_counter = 0\n",
    "        for j in range(j_center_of_mass - 15, j_center_of_mass + 16):\n",
    "            croped_image[i_counter][j_counter] = image[i][j]\n",
    "            j_counter += 1\n",
    "        i_counter += 1\n",
    "    return croped_image\n",
    "\n",
    "def get_center_of_mass(image, i_of_star, j_of_star):\n",
    "    \"\"\"\n",
    "    Calculate the center of mass of a star.\n",
    "\n",
    "    :param image: ndarray containing the star image\n",
    "    :param i_of_star: row index of the star\n",
    "    :param j_of_star: column index of the star\n",
    "    :return: 2D array representing the position of the center of mass\n",
    "    \"\"\"\n",
    "    total_mass = 0\n",
    "    weight_vector = np.array([0., 0.])\n",
    "    for i in range(i_of_star - 20, i_of_star + 21):\n",
    "        for j in range(j_of_star - 20, j_of_star + 21):\n",
    "            weight_vector += image[i][j] * np.array([i, j])\n",
    "            total_mass += image[i][j]\n",
    "    center_of_mass = (np.round(weight_vector / total_mass)).astype(int)\n",
    "    return center_of_mass, get_croped_image(image, center_of_mass)"
   ]
  },
  {
   "cell_type": "code",
   "execution_count": 83,
   "id": "d62eb765",
   "metadata": {},
   "outputs": [],
   "source": [
    "def calculate_signal(image, i_of_star, j_of_star, radius):\n",
    "    \"\"\"\n",
    "    Calculate the signal within a given radius around the star.\n",
    "\n",
    "    :param image: ndarray containing the star image\n",
    "    :param i_of_star: row index of the star\n",
    "    :param j_of_star: column index of the star\n",
    "    :param radius: radius around the star\n",
    "    :return: signal value\n",
    "    \"\"\"\n",
    "    signal = 0\n",
    "    pixel_counter = 0\n",
    "    for i in range(i_of_star - radius, i_of_star + radius + 1):\n",
    "        for j in range(j_of_star - radius, j_of_star + radius + 1):\n",
    "            x_val = i - i_of_star\n",
    "            y_val = j - j_of_star\n",
    "            if (x_val ** 2 + y_val ** 2 <= radius ** 2):\n",
    "                signal += image[i][j]\n",
    "                pixel_counter += 1\n",
    "    return signal"
   ]
  },
  {
   "cell_type": "code",
   "execution_count": 86,
   "id": "75144c5f",
   "metadata": {},
   "outputs": [],
   "source": [
    "# Finding the Full Width at Half Maximum (FWHM) of the star\n",
    "def get_FWHM(data):\n",
    "    \"\"\"\n",
    "    Calculate the Full Width at Half Maximum (FWHM) of a star.\n",
    "\n",
    "    :param data: 2D array representing the star image\n",
    "    :return: FWHM value\n",
    "    \"\"\"\n",
    "    max_data = np.max(data)\n",
    "    half_max_data = (max_data / 2).astype(int)\n",
    "    indices = np.where(data >= half_max_data)\n",
    "    x_indices = indices[0]\n",
    "    y_indices = indices[1]\n",
    "    FWHM_x = (x_indices.max() - x_indices.min())\n",
    "    FWHM_y = (y_indices.max() - y_indices.min())\n",
    "    FWHM = (FWHM_x + FWHM_y) / 2\n",
    "    return int(FWHM)\n",
    "\n",
    "# Get the center of mass and cropped image of the star\n",
    "center_of_mass, croped_image = get_center_of_mass(image, 790, 426)\n",
    "\n",
    "# Calculate the radius of the star using its FWHM\n",
    "radius = np.round(get_FWHM(croped_image)).astype(int)\n",
    "\n",
    "# Calculate the flux of the star\n",
    "F_star = calculate_signal(image, center_of_mass[0], center_of_mass[1], radius)\n"
   ]
  },
  {
   "cell_type": "code",
   "execution_count": 88,
   "id": "a7a27cb7",
   "metadata": {
    "scrolled": true
   },
   "outputs": [
    {
     "name": "stdout",
     "output_type": "stream",
     "text": [
      "rectangles flux:  374383660 \n",
      "number of pixels in rectangles:  107045 \n",
      "pixel size: 0.89\" \n",
      "star flux:  28872537 \n",
      "magnitude of rectangles:  -2.3763237182733654 \n",
      "flux per arc sec^2:  4415.404397843908 \n",
      "magnitude per arc sec^2:  18.418786151719328 \n",
      "\n"
     ]
    }
   ],
   "source": [
    "# Calculating magnitude\n",
    "m_star = 8.88\n",
    "magnitude_of_rectangles = -2.5 * np.log10(R_flux / F_star) + m_star\n",
    "flux_per_arc_sec2 = R_flux / (pixel_counter * (0.89 ** 2))\n",
    "magnitude_per_arc_sec2 = -2.5 * np.log10(flux_per_arc_sec2 / F_star) + m_star\n",
    "\n",
    "# Printing results\n",
    "print(\"Rectangles flux:\", R_flux, \"\\n\"\n",
    "      \"Number of pixels in rectangles:\", pixel_counter, \"\\n\"\n",
    "      \"Pixel size: 0.89\\\"\", \"\\n\"\n",
    "      \"Star flux:\", F_star, \"\\n\"\n",
    "      \"Magnitude of rectangles:\", magnitude_of_rectangles, \"\\n\"\n",
    "      \"Flux per arc sec^2:\", flux_per_arc_sec2, \"\\n\"\n",
    "      \"Magnitude per arc sec^2:\", magnitude_per_arc_sec2, \"\\n\")"
   ]
  }
 ],
 "metadata": {
  "kernelspec": {
   "display_name": "Python 3 (ipykernel)",
   "language": "python",
   "name": "python3"
  },
  "language_info": {
   "codemirror_mode": {
    "name": "ipython",
    "version": 3
   },
   "file_extension": ".py",
   "mimetype": "text/x-python",
   "name": "python",
   "nbconvert_exporter": "python",
   "pygments_lexer": "ipython3",
   "version": "3.9.7"
  }
 },
 "nbformat": 4,
 "nbformat_minor": 5
}
