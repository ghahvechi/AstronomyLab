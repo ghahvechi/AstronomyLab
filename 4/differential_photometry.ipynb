{
 "cells": [
  {
   "cell_type": "code",
   "execution_count": 300,
   "id": "5b93a02e",
   "metadata": {},
   "outputs": [],
   "source": [
    "import logging\n",
    "import numpy as np\n",
    "import matplotlib.pyplot as plt\n",
    "from astropy.io import fits\n",
    "import os\n",
    "from scipy.optimize import curve_fit"
   ]
  },
  {
   "cell_type": "code",
   "execution_count": 301,
   "id": "bd071518",
   "metadata": {},
   "outputs": [],
   "source": [
    "# Logging setup\n",
    "logging.basicConfig(level=logging.NOTSET)\n",
    "logger = logging.getLogger()"
   ]
  },
  {
   "cell_type": "code",
   "execution_count": 302,
   "id": "d612ef0b",
   "metadata": {},
   "outputs": [
    {
     "name": "stderr",
     "output_type": "stream",
     "text": [
      "INFO:root:opening fits file...\n",
      "INFO:root:opened successfully\n"
     ]
    }
   ],
   "source": [
    "# Reading FITS file\n",
    "logger.info('Opening FITS file...')\n",
    "image = fits.open(\"D:\\\\Files\\\\differential_photometry group2\\\\stars.fits\")[0].data\n",
    "logger.info('Opened successfully')\n",
    "\n",
    "# Note that the stars.fits file is already in a 2D format."
   ]
  },
  {
   "cell_type": "code",
   "execution_count": 303,
   "id": "03349558",
   "metadata": {},
   "outputs": [],
   "source": [
    "# Define function to get cropped image around the center of mass\n",
    "def get_croped_image(image, center_of_mass):\n",
    "    i_center_of_mass = center_of_mass[0]\n",
    "    j_center_of_mass = center_of_mass[1]\n",
    "    croped_image = np.zeros((31, 31), dtype=int)\n",
    "    i_counter = 0\n",
    "    for i in range(i_center_of_mass - 15, i_center_of_mass + 16):\n",
    "        j_counter = 0\n",
    "        for j in range(j_center_of_mass - 15, j_center_of_mass + 16):\n",
    "            croped_image[i_counter][j_counter] = image[i][j]\n",
    "            j_counter += 1\n",
    "        i_counter += 1\n",
    "    return croped_image\n",
    "\n",
    "# Define function to calculate center of mass of a star\n",
    "def get_center_of_mass(image, i_of_star, j_of_star):\n",
    "    total_mass = 0\n",
    "    weight_vector = np.array([0., 0.])\n",
    "    for i in range(i_of_star - 20, i_of_star + 21):\n",
    "        for j in range(j_of_star - 20, j_of_star + 21):\n",
    "            weight_vector += image[i][j] * np.array([i, j])\n",
    "            total_mass += image[i][j]\n",
    "    center_of_mass = (np.round(weight_vector / total_mass)).astype(int)\n",
    "    return center_of_mass, get_croped_image(image, center_of_mass)"
   ]
  },
  {
   "cell_type": "code",
   "execution_count": 304,
   "id": "6df26b43",
   "metadata": {},
   "outputs": [],
   "source": [
    "# Define function to calculate Full Width at Half Maximum (FWHM) of a star\n",
    "def get_FWHM(data):\n",
    "    max_data = np.max(data)\n",
    "    half_max_data = (max_data / 2).astype(int)\n",
    "    indices = np.where(data >= half_max_data)\n",
    "    x_indices = indices[0]\n",
    "    y_indices = indices[1]\n",
    "    FWHM_x = (x_indices.max() - x_indices.min())\n",
    "    FWHM_y = (y_indices.max() - y_indices.min())\n",
    "    FWHM = (FWHM_x + FWHM_y) / 2\n",
    "    return int(FWHM)\n",
    "\n",
    "# Define function to calculate 1D FWHM\n",
    "def get_FWHM_1D(data):\n",
    "    max_data = np.max(data)\n",
    "    half_max_data = (max_data / 2).astype(int)\n",
    "    indices = np.where(data >= half_max_data)\n",
    "    x_indices = indices[0]\n",
    "    FWHM = (x_indices.max() - x_indices.min())\n",
    "    return int(FWHM)"
   ]
  },
  {
   "cell_type": "code",
   "execution_count": 305,
   "id": "a54af85f",
   "metadata": {},
   "outputs": [],
   "source": [
    "# Define function to calculate signal within a given radius around the star\n",
    "def calculate_signal(image, i_of_star, j_of_star, radius):\n",
    "    signal = 0\n",
    "    pixel_counter = 0\n",
    "    for i in range(i_of_star - radius, i_of_star + radius + 1):\n",
    "        for j in range(j_of_star - radius, j_of_star + radius + 1):\n",
    "            x_val = i - i_of_star\n",
    "            y_val = j - j_of_star\n",
    "            if (x_val ** 2 + y_val ** 2 <= radius ** 2):\n",
    "                signal += image[i][j]\n",
    "                pixel_counter += 1\n",
    "    return signal / pixel_counter"
   ]
  },
  {
   "cell_type": "code",
   "execution_count": 306,
   "id": "61168725",
   "metadata": {},
   "outputs": [],
   "source": [
    "# Define function to calculate noise within a given radius around the star\n",
    "def calculate_noise(image, i_of_star, j_of_star, radius):\n",
    "    noise = 0\n",
    "    pixel_counter = 0\n",
    "    big_radius = np.round(radius * 2.5).astype(int)\n",
    "    for i in range(i_of_star - big_radius, i_of_star + big_radius + 1):\n",
    "        for j in range(j_of_star - big_radius, j_of_star + big_radius + 1):\n",
    "            x_val = i - i_of_star\n",
    "            y_val = j - j_of_star\n",
    "            if ((x_val ** 2 + y_val ** 2 >= (2 * radius) ** 2) and (x_val ** 2 + y_val ** 2 <= (2.5 * radius) ** 2)):\n",
    "                noise += image[i][j]\n",
    "                pixel_counter += 1\n",
    "    return noise / pixel_counter"
   ]
  },
  {
   "cell_type": "code",
   "execution_count": 307,
   "id": "8c349642",
   "metadata": {},
   "outputs": [
    {
     "data": {
      "text/plain": [
       "24"
      ]
     },
     "execution_count": 307,
     "metadata": {},
     "output_type": "execute_result"
    }
   ],
   "source": [
    "center_of_mass, croped_image = get_center_of_mass(image, 790, 426)\n",
    "radius = np.round(get_FWHM(croped_image)).astype(int)\n",
    "signal = calculate_signal(image, center_of_mass[0], center_of_mass[1], (radius).astype(int))\n",
    "radius = np.round(get_FWHM_1D(croped_image[15])).astype(int)\n",
    "radius"
   ]
  },
  {
   "cell_type": "code",
   "execution_count": 308,
   "id": "d5fc8f77",
   "metadata": {},
   "outputs": [
    {
     "data": {
      "text/plain": [
       "3394.440196078431"
      ]
     },
     "execution_count": 308,
     "metadata": {},
     "output_type": "execute_result"
    }
   ],
   "source": [
    "noise = calculate_noise(image, center_of_mass[0], center_of_mass[1], radius)\n",
    "noise"
   ]
  },
  {
   "cell_type": "code",
   "execution_count": 309,
   "id": "c0361fd1",
   "metadata": {},
   "outputs": [
    {
     "data": {
      "text/plain": [
       "3.4675220925641206"
      ]
     },
     "execution_count": 309,
     "metadata": {},
     "output_type": "execute_result"
    }
   ],
   "source": [
    "SNR = signal/noise\n",
    "SNR"
   ]
  },
  {
   "cell_type": "code",
   "execution_count": 314,
   "id": "9e6e9444",
   "metadata": {},
   "outputs": [
    {
     "name": "stdout",
     "output_type": "stream",
     "text": [
      "radius = 8\n",
      "radius = 13\n",
      "magnitude of first = 9.934814461981611 +- 0.14243225353622951 -- SNR = 7.635208830866247\n",
      "radius = 7\n",
      "magnitude of second = 9.711105955923749 +- 0.11463631871226405 -- SNR = 9.486522353614768\n",
      "radius = 13\n",
      "magnitude of third = 10.056649867268103 +- 0.1559748106109688 -- SNR = 6.972279663236356\n",
      "radius = 10\n",
      "magnitude of forth = 11.408366103823877 +- 0.4866419579347575 -- SNR = 2.2347024999965117\n"
     ]
    }
   ],
   "source": [
    "# Define positions of stars and their magnitudes\n",
    "guessed_center_of_mass = {\n",
    "    \"base\": [790, 426],\n",
    "    \"first\": [1403, 717],\n",
    "    \"second\": [1476, 680],\n",
    "    \"third\": [1565, 640],\n",
    "    \"fourth\": [625, 1264]\n",
    "}\n",
    "m0 = 8.88  # Reference magnitude\n",
    "F0 = 0  # Initial flux\n",
    "\n",
    "# Iterate over each star and calculate its magnitude and signal-to-noise ratio\n",
    "for key in guessed_center_of_mass.keys():\n",
    "    position = guessed_center_of_mass[key]\n",
    "    center_of_mass, croped_image = get_center_of_mass(image, position[0], position[1])\n",
    "    radius = np.round(get_FWHM_1D(croped_image[0]) / 2).astype(int)\n",
    "    print(f'radius = {radius}')\n",
    "    signal = calculate_signal(image, center_of_mass[0], center_of_mass[1], radius)\n",
    "    noise = calculate_noise(image, center_of_mass[0], center_of_mass[1], radius)\n",
    "    if (key == \"base\"):\n",
    "        F0 = calculate_signal(croped_image - noise, 15, 15, radius)\n",
    "    else:\n",
    "        F1 = calculate_signal(croped_image - noise, 15, 15, radius)\n",
    "        magnitude = -2.5 * np.log10(F1 / F0) + m0\n",
    "        SNR = signal / noise\n",
    "        sigma_magnitude = 1.0875 / SNR\n",
    "        print(f\"magnitude of {key} = {magnitude} +- {sigma_magnitude} -- SNR = {SNR}\")"
   ]
  }
 ],
 "metadata": {
  "kernelspec": {
   "display_name": "Python 3 (ipykernel)",
   "language": "python",
   "name": "python3"
  },
  "language_info": {
   "codemirror_mode": {
    "name": "ipython",
    "version": 3
   },
   "file_extension": ".py",
   "mimetype": "text/x-python",
   "name": "python",
   "nbconvert_exporter": "python",
   "pygments_lexer": "ipython3",
   "version": "3.9.7"
  }
 },
 "nbformat": 4,
 "nbformat_minor": 5
}
